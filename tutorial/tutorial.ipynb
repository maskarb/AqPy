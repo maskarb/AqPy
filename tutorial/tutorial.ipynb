{
 "cells": [
  {
   "cell_type": "markdown",
   "metadata": {
    "pycharm": {
     "name": "#%% Cell markdown\n"
    }
   },
   "source": [
    "### AqPy Example\n",
    "\n",
    "This tutorial solves the following problem:\n",
    "\n",
    "Model a 2-D, confined aquifer under steady state conditions. Use an 8 x 8 grid representation with $\\Delta x = \\Delta y= 500$ft.  Assume the transmissivity to be normally distributed with a mean at $12 500 \\text{ft}^2\\text{d}^{-1}$ and standard deviation of $100 \\text{ft}^2\\text{d}^{-1}$, and a constant-head boundary condition at $39 \\text{ft}$ at the upstream boundary, and $29.4 \\text{ft}$ at the downstream boundary. In all scenarios the head at any location cannot be less than $23 \\text{ft}$. Assume no-flow conditions along the top and bottom boundaries. Potential pumping well sites are located at cells $(3,3), (5,5), \\text{ and } (7,7)$. Maximize pumping from the aquifer.\n",
    "\n",
    "\n",
    "To begin, import the module"
   ]
  },
  {
   "cell_type": "code",
   "execution_count": 1,
   "metadata": {},
   "outputs": [],
   "source": [
    "from aqpy import aq"
   ]
  },
  {
   "cell_type": "markdown",
   "metadata": {},
   "source": [
    "Now that the module is imported, we need to create the grid."
   ]
  },
  {
   "cell_type": "code",
   "execution_count": 3,
   "metadata": {},
   "outputs": [
    {
     "name": "stdout",
     "output_type": "stream",
     "text": [
      "Academic license - for non-commercial use only\n"
     ]
    }
   ],
   "source": [
    "g = aq.Grid(8, 8)"
   ]
  },
  {
   "cell_type": "markdown",
   "metadata": {},
   "source": [
    "Now the aquifer attributes will be added"
   ]
  },
  {
   "cell_type": "code",
   "execution_count": 4,
   "metadata": {},
   "outputs": [],
   "source": [
    "g.add_units('ft', 'd')\n",
    "g.add_wells( [(3,3),(5,5),(7,7)] )\n",
    "g.add_min_head(23)\n",
    "g.add_cell_lengths(500)\n",
    "g.add_trans(12500, 100, 'normal')\n",
    "g.add_boundary_heads(left=39, right=29.4)"
   ]
  },
  {
   "cell_type": "markdown",
   "metadata": {},
   "source": [
    "Next, the objective function is selected and the model is optimized."
   ]
  },
  {
   "cell_type": "code",
   "execution_count": 5,
   "metadata": {},
   "outputs": [
    {
     "name": "stdout",
     "output_type": "stream",
     "text": [
      "Optimize a model with 64 rows, 67 columns and 291 nonzeros\n",
      "Coefficient statistics:\n",
      "  Matrix range     [5e-02, 1e+00]\n",
      "  Objective range  [1e+00, 1e+00]\n",
      "  Bounds range     [2e+01, 2e+01]\n",
      "  RHS range        [1e+00, 2e+00]\n",
      "Presolve removed 37 rows and 37 columns\n",
      "Presolve time: 0.01s\n",
      "Presolved: 27 rows, 30 columns, 228 nonzeros\n",
      "\n",
      "Iteration    Objective       Primal Inf.    Dual Inf.      Time\n",
      "       0    3.8528803e+30   2.591038e+31   3.852880e+00      0s\n",
      "      26    2.0077123e+00   0.000000e+00   0.000000e+00      0s\n",
      "\n",
      "Solved in 26 iterations and 0.01 seconds\n",
      "Optimal objective  2.007712256e+00\n",
      "OPTIMIZATION COMPLETE\n"
     ]
    }
   ],
   "source": [
    "g.add_objective(1)\n",
    "g.optimize()"
   ]
  },
  {
   "cell_type": "markdown",
   "metadata": {},
   "source": [
    "The results are printed using a few methods. Each of these methods also prints results to file. `print_grid_results` will produce a `csv` file, `print_pump_results` will produce a `txt` file, and `print_map` will generate a `pdf` file. \n",
    "\n",
    "To see the numerical head values, use the following."
   ]
  },
  {
   "cell_type": "code",
   "execution_count": 6,
   "metadata": {},
   "outputs": [
    {
     "name": "stdout",
     "output_type": "stream",
     "text": [
      "Results: in ft\n",
      "[[ bound  bound  bound  bound  bound  bound  bound  bound  bound  bound]\n",
      " [39.000 35.290 31.821 29.069 27.854 27.499 27.636 28.076 28.694 29.400]\n",
      " [39.000 35.047 31.106 27.540 27.002 27.008 27.334 27.893 28.606 29.400]\n",
      " [39.000 34.793 30.022 23.000 25.608 26.198 26.801 27.553 28.438 29.400]\n",
      " [39.000 35.115 31.146 27.324 26.191 25.374 26.124 27.077 28.193 29.400]\n",
      " [39.000 35.523 32.121 28.990 26.464 23.000 25.246 26.438 27.856 29.400]\n",
      " [39.000 35.859 32.829 30.050 27.668 25.685 25.437 25.569 27.392 29.400]\n",
      " [39.000 36.085 33.283 30.713 28.476 26.639 25.248 23.000 26.744 29.400]\n",
      " [39.000 36.197 33.506 31.035 28.885 27.148 25.918 25.353 27.171 29.400]\n",
      " [ bound  bound  bound  bound  bound  bound  bound  bound  bound  bound]]\n"
     ]
    }
   ],
   "source": [
    "g.print_grid_results()"
   ]
  },
  {
   "cell_type": "markdown",
   "metadata": {},
   "source": [
    "We can also print a summary of the pumping results."
   ]
  },
  {
   "cell_type": "code",
   "execution_count": 7,
   "metadata": {},
   "outputs": [
    {
     "name": "stdout",
     "output_type": "stream",
     "text": [
      "Pump Results\n",
      "(3, 3):    0.92785 fpd, head (ft):  23.00\n",
      "(5, 5):    0.53438 fpd, head (ft):  23.00\n",
      "(7, 7):    0.54549 fpd, head (ft):  23.00\n",
      "Total Flow (q): 2.01 fpd\n",
      "Total Flow (W): 501928.06 cfd\n"
     ]
    }
   ],
   "source": [
    "g.print_pump_results()"
   ]
  },
  {
   "cell_type": "markdown",
   "metadata": {},
   "source": [
    "And finally, a heat map can be printed to visualize the heads and locations of wells."
   ]
  },
  {
   "cell_type": "code",
   "execution_count": 8,
   "metadata": {},
   "outputs": [
    {
     "data": {
      "image/png": "[encoded data removed]",
      "text/plain": [
       "<Figure size 432x288 with 2 Axes>"
      ]
     },
     "metadata": {
      "needs_background": "light"
     },
     "output_type": "display_data"
    }
   ],
   "source": [
    "g.print_map()"
   ]
  }
 ],
 "metadata": {
  "kernelspec": {
   "display_name": "Python 3",
   "language": "python",
   "name": "python3"
  },
  "language_info": {
   "codemirror_mode": {
    "name": "ipython",
    "version": 3
   },
   "file_extension": ".py",
   "mimetype": "text/x-python",
   "name": "python",
   "nbconvert_exporter": "python",
   "pygments_lexer": "ipython3",
   "version": "3.7.3"
  },
  "pycharm": {
   "stem_cell": {
    "cell_type": "raw",
    "metadata": {
     "collapsed": false
    },
    "source": []
   }
  }
 },
 "nbformat": 4,
 "nbformat_minor": 1
}
